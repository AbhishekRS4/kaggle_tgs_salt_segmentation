{
 "cells": [
  {
   "cell_type": "code",
   "execution_count": 1,
   "metadata": {},
   "outputs": [],
   "source": [
    "import os\n",
    "import numpy as np\n",
    "import pandas as pd\n",
    "from scipy.misc import imread"
   ]
  },
  {
   "cell_type": "code",
   "execution_count": 2,
   "metadata": {},
   "outputs": [],
   "source": [
    "test_images_dir = '/home/abhishek/Desktop/datasets/tgs_salt_identification/data/test/images/'\n",
    "pred_masks_dir = '/home/abhishek/Desktop/deep_learning/kaggle/tgs_salt/model_300/masks_292/'\n",
    "\n",
    "test_images_list = os.listdir(test_images_dir)"
   ]
  },
  {
   "cell_type": "code",
   "execution_count": 3,
   "metadata": {},
   "outputs": [],
   "source": [
    "def get_run_length(mask, order = 'F'):\n",
    "    mask = mask.reshape(-1, order = order)\n",
    "    \n",
    "    runs = []  ## list of run lengths\n",
    "    r = 0  ## the current run length\n",
    "    pos = 1  ## count starts from 1 per WK\n",
    "    for c in mask:\n",
    "        if (c == 0):\n",
    "            if r != 0:\n",
    "                runs.append((pos, r))\n",
    "                pos += r\n",
    "                r = 0\n",
    "            pos += 1\n",
    "        else:\n",
    "            r += 1\n",
    "\n",
    "    # if last run is unsaved (i.e. data ends with 1)\n",
    "    if r != 0:\n",
    "        runs.append((pos, r))\n",
    "        pos += r\n",
    "        r = 0\n",
    "        \n",
    "    run_lengths_string = ''\n",
    "\n",
    "    for rr in runs:\n",
    "        run_lengths_string += '{} {} '.format(rr[0], rr[1])\n",
    "        \n",
    "    return run_lengths_string[:-1]"
   ]
  },
  {
   "cell_type": "code",
   "execution_count": 4,
   "metadata": {},
   "outputs": [
    {
     "name": "stderr",
     "output_type": "stream",
     "text": [
      "/usr/local/lib/python3.5/dist-packages/ipykernel_launcher.py:4: DeprecationWarning: `imread` is deprecated!\n",
      "`imread` is deprecated in SciPy 1.0.0, and will be removed in 1.2.0.\n",
      "Use ``imageio.imread`` instead.\n",
      "  after removing the cwd from sys.path.\n"
     ]
    }
   ],
   "source": [
    "sub_dict = dict()\n",
    "\n",
    "for x in test_images_list:\n",
    "    mask = imread(os.path.join(pred_masks_dir, 'mask_' + x))\n",
    "    #mask = imread(os.path.join(pred_masks_dir, 'label_' + x))\n",
    "    run_length_string = get_run_length(mask)\n",
    "    sub_dict[x.split('.')[0]] = run_length_string\n",
    "\n",
    "df_sub = pd.DataFrame.from_dict(sub_dict, orient = 'index')\n",
    "df_sub.index.names = ['id']\n",
    "df_sub.columns = ['rle_mask']\n",
    "#df_sub.to_csv('abhi_submission.csv')"
   ]
  },
  {
   "cell_type": "code",
   "execution_count": 5,
   "metadata": {},
   "outputs": [],
   "source": [
    "df_sub.to_csv('/home/abhishek/Desktop/deep_learning/kaggle/tgs_salt/model_300/tgs_292.csv')"
   ]
  },
  {
   "cell_type": "code",
   "execution_count": 6,
   "metadata": {},
   "outputs": [
    {
     "data": {
      "text/html": [
       "<div>\n",
       "<style scoped>\n",
       "    .dataframe tbody tr th:only-of-type {\n",
       "        vertical-align: middle;\n",
       "    }\n",
       "\n",
       "    .dataframe tbody tr th {\n",
       "        vertical-align: top;\n",
       "    }\n",
       "\n",
       "    .dataframe thead th {\n",
       "        text-align: right;\n",
       "    }\n",
       "</style>\n",
       "<table border=\"1\" class=\"dataframe\">\n",
       "  <thead>\n",
       "    <tr style=\"text-align: right;\">\n",
       "      <th></th>\n",
       "      <th>rle_mask</th>\n",
       "    </tr>\n",
       "    <tr>\n",
       "      <th>id</th>\n",
       "      <th></th>\n",
       "    </tr>\n",
       "  </thead>\n",
       "  <tbody>\n",
       "    <tr>\n",
       "      <th>fe6361c582</th>\n",
       "      <td>85 17 186 17 287 17 388 17 488 18 589 18 690 1...</td>\n",
       "    </tr>\n",
       "    <tr>\n",
       "      <th>711ef6f24e</th>\n",
       "      <td></td>\n",
       "    </tr>\n",
       "    <tr>\n",
       "      <th>e609ac2104</th>\n",
       "      <td></td>\n",
       "    </tr>\n",
       "    <tr>\n",
       "      <th>86321af3bf</th>\n",
       "      <td>8282 1 8381 3 8481 4 8582 4 8683 4 8783 5 8884...</td>\n",
       "    </tr>\n",
       "    <tr>\n",
       "      <th>a5050ea371</th>\n",
       "      <td>2021 1 2122 1 2223 1 2324 2 2425 3 2526 3 2532...</td>\n",
       "    </tr>\n",
       "  </tbody>\n",
       "</table>\n",
       "</div>"
      ],
      "text/plain": [
       "                                                     rle_mask\n",
       "id                                                           \n",
       "fe6361c582  85 17 186 17 287 17 388 17 488 18 589 18 690 1...\n",
       "711ef6f24e                                                   \n",
       "e609ac2104                                                   \n",
       "86321af3bf  8282 1 8381 3 8481 4 8582 4 8683 4 8783 5 8884...\n",
       "a5050ea371  2021 1 2122 1 2223 1 2324 2 2425 3 2526 3 2532..."
      ]
     },
     "execution_count": 6,
     "metadata": {},
     "output_type": "execute_result"
    }
   ],
   "source": [
    "df_sub.head()"
   ]
  },
  {
   "cell_type": "code",
   "execution_count": 7,
   "metadata": {},
   "outputs": [
    {
     "data": {
      "text/plain": [
       "(18000, 1)"
      ]
     },
     "execution_count": 7,
     "metadata": {},
     "output_type": "execute_result"
    }
   ],
   "source": [
    "df_sub.shape"
   ]
  },
  {
   "cell_type": "code",
   "execution_count": null,
   "metadata": {},
   "outputs": [],
   "source": []
  }
 ],
 "metadata": {
  "kernelspec": {
   "display_name": "Python 3",
   "language": "python",
   "name": "python3"
  },
  "language_info": {
   "codemirror_mode": {
    "name": "ipython",
    "version": 3
   },
   "file_extension": ".py",
   "mimetype": "text/x-python",
   "name": "python",
   "nbconvert_exporter": "python",
   "pygments_lexer": "ipython3",
   "version": "3.5.2"
  }
 },
 "nbformat": 4,
 "nbformat_minor": 2
}
